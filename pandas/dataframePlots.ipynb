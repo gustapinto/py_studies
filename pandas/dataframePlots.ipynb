{
 "cells": [
  {
   "cell_type": "code",
   "execution_count": null,
   "metadata": {
    "tags": []
   },
   "outputs": [],
   "source": [
    "import pandas\n",
    "\n",
    "\"\"\" A really simple jupyter notebook, just to see some nice graphics \"\"\"\n",
    "\n",
    "numeric_dataframe = pandas.DataFrame({\n",
    "    \"Random Label 1\": [1, 3, 5, 7, 32, 21],\n",
    "    \"Random Label 2\": [2, 4, 8, 16, 32, 64],\n",
    "    \"Random Label 3\": [12, 32, 21, 10, 32, 10]\n",
    "})\n",
    "\n",
    "numeric_dataframe.plot()\n",
    "numeric_dataframe.plot.bar()\n",
    "numeric_dataframe.plot.area()\n",
    "numeric_dataframe.plot.pie(subplots=True)\n",
    "numeric_dataframe.plot.hist()"
   ]
  }
 ],
 "metadata": {
  "kernelspec": {
   "display_name": "Python 3",
   "language": "python",
   "name": "python3"
  },
  "language_info": {
   "codemirror_mode": {
    "name": "ipython",
    "version": 3
   },
   "file_extension": ".py",
   "mimetype": "text/x-python",
   "name": "python",
   "nbconvert_exporter": "python",
   "pygments_lexer": "ipython3",
   "version": "3.8.5-final"
  }
 },
 "nbformat": 4,
 "nbformat_minor": 4
}